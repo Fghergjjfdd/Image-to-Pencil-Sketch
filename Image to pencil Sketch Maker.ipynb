{
 "cells": [
  {
   "cell_type": "code",
   "execution_count": null,
   "id": "ed17f111",
   "metadata": {},
   "outputs": [],
   "source": [
    "pip show opencv-python"
   ]
  },
  {
   "cell_type": "code",
   "execution_count": null,
   "id": "88683fd4",
   "metadata": {},
   "outputs": [],
   "source": [
    "pip install opencv-python"
   ]
  },
  {
   "cell_type": "code",
   "execution_count": null,
   "id": "0cc24875",
   "metadata": {},
   "outputs": [],
   "source": [
    "import cv2"
   ]
  },
  {
   "cell_type": "code",
   "execution_count": null,
   "id": "3cbf725c",
   "metadata": {},
   "outputs": [],
   "source": [
    "\n",
    "from matplotlib import pyplot as plt\n",
    "import IPython.display as display\n",
    "\n",
    "#read the image\n",
    "image = cv2.imread(\"Cat.jpg\")\n",
    "\n",
    "#original image\n",
    "plt.imshow(cv2.cvtColor(image, cv2.COLOR_BGR2RGB))\n",
    "plt.title('Original Image')\n",
    "plt.axis('off')\n",
    "plt.show()\n",
    "#to grayscale\n",
    "gray_image = cv2.cvtColor(image, cv2.COLOR_BGR2GRAY)\n",
    "#showinggrayscale image\n",
    "plt.imshow(gray_image, cmap='gray')\n",
    "plt.title('Grayscale Image')\n",
    "plt.axis('off')\n",
    "plt.show()\n",
    "\n",
    "#invert\n",
    "inverted_image = 255 - gray_image\n",
    "plt.imshow(inverted_image, cmap='gray')\n",
    "plt.title('Inverted Image')\n",
    "plt.axis('off')\n",
    "plt.show()\n",
    "#blur\n",
    "blurred = cv2.GaussianBlur(inverted_image, (21, 21), 0)\n",
    "inverted_blurred = 255 - blurred\n",
    "#create the pencil sketch\n",
    "pencil_sketch = cv2.divide(gray_image, inverted_blurred, scale=256.0)\n",
    "#showing pencil sketch\n",
    "plt.imshow(pencil_sketch, cmap='gray')\n",
    "plt.title('Pencil Sketch')\n",
    "plt.axis('off')\n",
    "plt.show()\n",
    "\n",
    "#original image and pencil sketch side by side\n",
    "fig, axes = plt.subplots(1, 2, figsize=(12, 6))\n",
    "axes[0].imshow(cv2.cvtColor(image, cv2.COLOR_BGR2RGB))\n",
    "axes[0].set_title('Original Image')\n",
    "axes[0].axis('off')\n",
    "axes[1].imshow(pencil_sketch, cmap='gray')\n",
    "axes[1].set_title('Pencil Sketch')\n",
    "axes[1].axis('off')\n",
    "plt.show()\n"
   ]
  }
 ],
 "metadata": {
  "kernelspec": {
   "display_name": "Python 3 (ipykernel)",
   "language": "python",
   "name": "python3"
  },
  "language_info": {
   "codemirror_mode": {
    "name": "ipython",
    "version": 3
   },
   "file_extension": ".py",
   "mimetype": "text/x-python",
   "name": "python",
   "nbconvert_exporter": "python",
   "pygments_lexer": "ipython3",
   "version": "3.11.5"
  }
 },
 "nbformat": 4,
 "nbformat_minor": 5
}
